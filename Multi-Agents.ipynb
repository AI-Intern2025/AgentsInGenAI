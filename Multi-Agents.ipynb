{
 "cells": [
  {
   "cell_type": "code",
   "execution_count": 1,
   "id": "86991176",
   "metadata": {},
   "outputs": [],
   "source": [
    "import numpy as np\n",
    "import random\n",
    "import matplotlib.pyplot as plt\n",
    "from transformers import pipeline"
   ]
  },
  {
   "cell_type": "code",
   "execution_count": 2,
   "id": "e105c196",
   "metadata": {},
   "outputs": [
    {
     "name": "stderr",
     "output_type": "stream",
     "text": [
      "Device set to use cpu\n"
     ]
    }
   ],
   "source": [
    "# Load AI model for content generation and doubt resolution\n",
    "llm = pipeline(\"text2text-generation\", model=\"google/flan-t5-base\", temperature = 0.5)\n"
   ]
  },
  {
   "cell_type": "code",
   "execution_count": 20,
   "id": "c5635e06",
   "metadata": {},
   "outputs": [],
   "source": [
    "# 1️⃣ Student Assessment & Adaptive Learning Agent\n",
    "class AssessmentAgent:\n",
    "    def __init__(self):\n",
    "        self.topics = {\"Math\": 0, \"Science\": 0, \"History\": 0}\n",
    "    \n",
    "    def assess_student(self):\n",
    "        print(\"Starting Student Assessment...\\n\")\n",
    "        for subject in self.topics:\n",
    "            self.topics[subject] = random.randint(1, 10)  # RANDOM score out of 10\n",
    "        print(\"Assessment Results:\", self.topics)\n",
    "        return self.topics\n",
    "    \n",
    "    def suggest_learning_path(self):\n",
    "        weak_topics = [topic for topic, score in self.topics.items() if score < 5] # If score<5 it is a weak subject\n",
    "        return weak_topics if weak_topics else [\"Advanced Learning in all topics\"]\n"
   ]
  },
  {
   "cell_type": "code",
   "execution_count": 21,
   "id": "aaf505c6",
   "metadata": {},
   "outputs": [],
   "source": [
    "# 2️⃣ Content Generation & Doubt Resolution Agent\n",
    "class ContentAgent:\n",
    "    def generate_lesson(self, topic):\n",
    "        print(f\"\\nGenerating lesson for {topic}...\")\n",
    "        response = llm(f\"Explain {topic} in simple terms.\")[0]['generated_text']\n",
    "        return response\n",
    "    \n",
    "    def answer_doubt(self, question):\n",
    "        print(\"\\nAnswering doubt...\")\n",
    "        response = llm(f\"Answer this question: {question}\")[0]['generated_text']\n",
    "        return response\n"
   ]
  },
  {
   "cell_type": "code",
   "execution_count": 22,
   "id": "fd52279d",
   "metadata": {},
   "outputs": [],
   "source": [
    "# 3️⃣ Performance Monitoring & Engagement Agent\n",
    "class MonitoringAgent:\n",
    "    def __init__(self):\n",
    "        self.progress = []\n",
    "    \n",
    "    def track_performance(self, assessment_scores):\n",
    "        avg_score = np.mean(list(assessment_scores.values()))\n",
    "        self.progress.append(avg_score)\n",
    "        print(f\"\\nCurrent Progress Score: {avg_score}/10\")\n",
    "    \n",
    "    def plot_progress(self):\n",
    "        plt.plot(self.progress, marker='o', linestyle='-')\n",
    "        plt.xlabel(\"Sessions\")\n",
    "        plt.ylabel(\"Average Score\")\n",
    "        plt.title(\"Student Learning Progress\")\n",
    "        plt.show()"
   ]
  },
  {
   "cell_type": "code",
   "execution_count": 23,
   "id": "560348c8",
   "metadata": {},
   "outputs": [],
   "source": [
    "# Simulating the AI Tutor System\n",
    "assessment_agent = AssessmentAgent()\n",
    "content_agent = ContentAgent()\n",
    "monitoring_agent = MonitoringAgent()"
   ]
  },
  {
   "cell_type": "code",
   "execution_count": 24,
   "id": "463fc6de",
   "metadata": {},
   "outputs": [
    {
     "name": "stdout",
     "output_type": "stream",
     "text": [
      "Starting Student Assessment...\n",
      "\n",
      "Assessment Results: {'Math': 10, 'Science': 5, 'History': 1}\n",
      "Suggested Learning Path: ['History']\n"
     ]
    }
   ],
   "source": [
    "\n",
    "# Step 1: Assess Student\n",
    "scores = assessment_agent.assess_student()\n",
    "learning_path = assessment_agent.suggest_learning_path()\n",
    "print(\"Suggested Learning Path:\", learning_path)\n"
   ]
  },
  {
   "cell_type": "code",
   "execution_count": 25,
   "id": "b09a80e5",
   "metadata": {},
   "outputs": [
    {
     "name": "stdout",
     "output_type": "stream",
     "text": [
      "\n",
      "Generating lesson for History...\n",
      "History is a collection of events that occurred during the past century.\n"
     ]
    }
   ],
   "source": [
    "# Step 2: Generate Lessons\n",
    "for topic in learning_path:\n",
    "    print(content_agent.generate_lesson(topic))\n"
   ]
  },
  {
   "cell_type": "code",
   "execution_count": 26,
   "id": "b1431e0a",
   "metadata": {},
   "outputs": [
    {
     "name": "stdout",
     "output_type": "stream",
     "text": [
      "\n",
      "Answering doubt...\n",
      "Photosynthesis is the process of converting light energy into light energy by photosynthesis.\n"
     ]
    }
   ],
   "source": [
    "# Step 3: Answer Doubts\n",
    "user_doubt = \"What is photosynthesis?\"\n",
    "print(content_agent.answer_doubt(user_doubt))"
   ]
  },
  {
   "cell_type": "code",
   "execution_count": 10,
   "id": "ecf59ece",
   "metadata": {},
   "outputs": [
    {
     "name": "stdout",
     "output_type": "stream",
     "text": [
      "\n",
      "Current Progress Score: 5.333333333333333/10\n"
     ]
    },
    {
     "data": {
      "image/png": "[encoded data removed]",
      "text/plain": [
       "<Figure size 640x480 with 1 Axes>"
      ]
     },
     "metadata": {},
     "output_type": "display_data"
    }
   ],
   "source": [
    "# Step 4: Monitor Progress\n",
    "monitoring_agent.track_performance(scores)\n",
    "monitoring_agent.plot_progress()\n"
   ]
  },
  {
   "cell_type": "code",
   "execution_count": null,
   "id": "5865fbd9",
   "metadata": {},
   "outputs": [],
   "source": []
  }
 ],
 "metadata": {
  "kernelspec": {
   "display_name": "Python 3 (ipykernel)",
   "language": "python",
   "name": "python3"
  },
  "language_info": {
   "codemirror_mode": {
    "name": "ipython",
    "version": 3
   },
   "file_extension": ".py",
   "mimetype": "text/x-python",
   "name": "python",
   "nbconvert_exporter": "python",
   "pygments_lexer": "ipython3",
   "version": "3.11.5"
  }
 },
 "nbformat": 4,
 "nbformat_minor": 5
}
