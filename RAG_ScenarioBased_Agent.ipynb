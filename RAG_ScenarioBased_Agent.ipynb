{
 "cells": [
  {
   "cell_type": "code",
   "execution_count": 13,
   "id": "a05af70a",
   "metadata": {},
   "outputs": [],
   "source": [
    "from langchain import HuggingFaceHub, PromptTemplate, LLMChain\n",
    "from langchain.vectorstores import FAISS\n",
    "from langchain.embeddings import HuggingFaceEmbeddings\n",
    "from langchain.document_loaders import TextLoader\n",
    "from langchain.text_splitter import CharacterTextSplitter\n",
    "from langchain.chains import RetrievalQA\n",
    "import os\n",
    "import os\n",
    "os.environ[\"HUGGINGFACEHUB_API_TOKEN\"] = \"\"\n",
    "\n",
    "\n",
    "\n",
    "\n",
    "\n"
   ]
  },
  {
   "cell_type": "code",
   "execution_count": null,
   "id": "fd2f68f5",
   "metadata": {},
   "outputs": [],
   "source": []
  },
  {
   "cell_type": "code",
   "execution_count": 14,
   "id": "47d564ae",
   "metadata": {},
   "outputs": [],
   "source": [
    "# Step 1: Load documents (Knowledge Base)\n",
    "loader = TextLoader(\"customer_support_faq.txt\")  # Your FAQ file\n",
    "raw_documents = loader.load()\n"
   ]
  },
  {
   "cell_type": "code",
   "execution_count": 15,
   "id": "48ae2c09",
   "metadata": {},
   "outputs": [],
   "source": [
    "# Step 2: Split documents into smaller chunks\n",
    "text_splitter = CharacterTextSplitter(chunk_size=500, chunk_overlap=50)\n",
    "documents = text_splitter.split_documents(raw_documents)"
   ]
  },
  {
   "cell_type": "code",
   "execution_count": 16,
   "id": "f4b157eb",
   "metadata": {},
   "outputs": [],
   "source": [
    "# Step 3: Convert text to embeddings using Hugging Face model\n",
    "embedding_model = HuggingFaceEmbeddings(model_name=\"sentence-transformers/all-MiniLM-L6-v2\")\n",
    "vector_db = FAISS.from_documents(documents, embedding_model)\n"
   ]
  },
  {
   "cell_type": "code",
   "execution_count": 17,
   "id": "93f36116",
   "metadata": {},
   "outputs": [],
   "source": [
    "\n",
    "# Step 4: Load Hugging Face LLM\n",
    "llm = HuggingFaceHub(repo_id=\"google/flan-t5-base\", model_kwargs={\"temperature\": 0.5, \"max_length\": 512})\n"
   ]
  },
  {
   "cell_type": "code",
   "execution_count": 18,
   "id": "4c096bcd",
   "metadata": {},
   "outputs": [],
   "source": [
    "# Step 5: Define the Retrieval-Augmented Chain\n",
    "retrieval_chain = RetrievalQA.from_chain_type(llm=llm, retriever=vector_db.as_retriever())\n"
   ]
  },
  {
   "cell_type": "code",
   "execution_count": 19,
   "id": "2ba72702",
   "metadata": {},
   "outputs": [
    {
     "name": "stderr",
     "output_type": "stream",
     "text": [
      "C:\\Users\\shivr\\anaconda3\\Lib\\site-packages\\huggingface_hub\\utils\\_deprecation.py:131: FutureWarning: 'post' (from 'huggingface_hub.inference._client') is deprecated and will be removed from version '0.31.0'. Making direct POST requests to the inference server is not supported anymore. Please use task methods instead (e.g. `InferenceClient.chat_completion`). If your use case is not supported, please open an issue in https://github.com/huggingface/huggingface_hub.\n",
      "  warnings.warn(warning_message, FutureWarning)\n"
     ]
    },
    {
     "name": "stdout",
     "output_type": "stream",
     "text": [
      "Email support@example.com or call us at +1-800-123-4567.\n"
     ]
    }
   ],
   "source": [
    "\n",
    "# Function to query the chatbot\n",
    "def ask_chatbot(query):\n",
    "    response = retrieval_chain.run(query)\n",
    "    return response\n",
    "\n",
    "# Example usage\n",
    "query = \"How can I contact customer support?\"\n",
    "print(ask_chatbot(query))\n"
   ]
  },
  {
   "cell_type": "code",
   "execution_count": null,
   "id": "1732fea8",
   "metadata": {},
   "outputs": [],
   "source": []
  }
 ],
 "metadata": {
  "kernelspec": {
   "display_name": "Python 3 (ipykernel)",
   "language": "python",
   "name": "python3"
  },
  "language_info": {
   "codemirror_mode": {
    "name": "ipython",
    "version": 3
   },
   "file_extension": ".py",
   "mimetype": "text/x-python",
   "name": "python",
   "nbconvert_exporter": "python",
   "pygments_lexer": "ipython3",
   "version": "3.11.5"
  }
 },
 "nbformat": 4,
 "nbformat_minor": 5
}
